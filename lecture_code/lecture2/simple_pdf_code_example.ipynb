{
 "cells": [
  {
   "cell_type": "code",
   "execution_count": 1,
   "id": "47412b5f",
   "metadata": {},
   "outputs": [],
   "source": [
    "import numpy as np\n",
    "from scipy import stats"
   ]
  },
  {
   "cell_type": "code",
   "execution_count": 2,
   "id": "52619133",
   "metadata": {},
   "outputs": [
    {
     "name": "stdout",
     "output_type": "stream",
     "text": [
      "answer: 68.3 %\n"
     ]
    }
   ],
   "source": [
    "answer=stats.norm.cdf(1,loc=0,scale=1)-stats.norm.cdf(-1,loc=0,scale=1)\n",
    "print(f'answer: {np.round(answer*100,1)} %')"
   ]
  },
  {
   "cell_type": "code",
   "execution_count": null,
   "id": "99179a78",
   "metadata": {},
   "outputs": [],
   "source": []
  }
 ],
 "metadata": {
  "kernelspec": {
   "display_name": "Python 3 (ipykernel)",
   "language": "python",
   "name": "python3"
  },
  "language_info": {
   "codemirror_mode": {
    "name": "ipython",
    "version": 3
   },
   "file_extension": ".py",
   "mimetype": "text/x-python",
   "name": "python",
   "nbconvert_exporter": "python",
   "pygments_lexer": "ipython3",
   "version": "3.10.4"
  }
 },
 "nbformat": 4,
 "nbformat_minor": 5
}
